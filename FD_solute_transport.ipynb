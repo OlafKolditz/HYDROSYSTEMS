{
 "cells": [
  {
   "cell_type": "markdown",
   "id": "07b1e10c-4a47-4dbd-a167-8f3cbb1b579b",
   "metadata": {},
   "source": [
    "# Exercise\n",
    "* Try out different time-step sizes. What do you observe? Why do you observe the pattern you observe?\n",
    "* Gather in groups of 3 to 4 students. Try to derive an optimal time-step size. What do you need to consider?\n",
    "* Try to implement the optimal time-step size, which was defined in class.\n",
    "* Discuss in your group: Which kind of analytical solution would you choose to benchamrk the numerical setup?\n",
    "* Implement the analytical solution of your choice and compare it against the numerical solution.\n",
    "* Implement linear decay and test it against an analytical solution.\n",
    "* Try to model the first exercise with your adapted finite difference code."
   ]
  },
  {
   "cell_type": "code",
   "execution_count": 2,
   "id": "e3e2b326-edb3-485c-8ec2-90d46f9edb60",
   "metadata": {},
   "outputs": [
    {
     "data": {
      "image/png": "[encoded data removed]",
      "text/plain": [
       "<Figure size 640x480 with 1 Axes>"
      ]
     },
     "metadata": {},
     "output_type": "display_data"
    }
   ],
   "source": [
    "import numpy as np\n",
    "import matplotlib.pyplot as plt\n",
    "from copy import deepcopy\n",
    "\n",
    "column_length = 2.0 # [m]\n",
    "n_cells = 1000\n",
    "\n",
    "v = 2*10**(-5) # linear average velocity [m/s]\n",
    "\n",
    "R = 2.0 # retardation factor [-]\n",
    "n = 0.3 # [-]\n",
    "alpha = 0.1 # [m]\n",
    "Dp = 1*10**(-9) # [m^2/s]\n",
    "\n",
    "D_eff = alpha*v + Dp # Scheidegger's dispersion [m^2/s]\n",
    "\n",
    "dt = 1.0; # time-step size [s]\n",
    "\n",
    "time_with_inflow = 1.0/v # [s]\n",
    "\n",
    "## Finite-Difference Discretization of the ADE ## \n",
    "\n",
    "\n",
    "Tracers = \"Uranin\"\n",
    "R_tracers = deepcopy(R)\n",
    "alpha_l_tracers = deepcopy(alpha)\n",
    "\n",
    "simulated_time_tot =deepcopy(time_with_inflow)\n",
    "\n",
    "delta_x = column_length/((n_cells)-1)\n",
    "x = np.linspace(0.0,2.0-delta_x,n_cells) + delta_x/2.0\n",
    "v_vec = np.ones(n_cells)*v\n",
    "q_vec = v_vec*n\n",
    "\n",
    "R_tracer = np.ones(n_cells)*R;\n",
    "\n",
    "D_eff_vec = alpha_l_tracers*v_vec + Dp*np.ones(n_cells); \n",
    "\n",
    "C_inflow_tracer = 1.0 # inflowing concentration [mol/m^3]\n",
    "\n",
    "C_ini_tracers = np.zeros(n_cells);\n",
    "\n",
    "C_w = deepcopy(C_ini_tracers)\n",
    "\n",
    "t = 0.0\n",
    "iter_i = 1\n",
    "\n",
    "while t<simulated_time_tot:\n",
    "\n",
    "    if t + dt > simulated_time_tot:\n",
    "        dt = simulated_time_tot-t\n",
    "\n",
    "    new_conc_vec = np.concatenate((C_inflow_tracer,C_w[:-1]),axis=None)\n",
    "    old_conc_vec = np.concatenate((C_w[1:],C_w[-1:]),axis=None)\n",
    "\n",
    "    FD_advection_mulipliers = (q_vec*dt)/(delta_x*n*R_tracer) # fraction of new water due to advection\n",
    "    C_w_add_advection = FD_advection_mulipliers*new_conc_vec -FD_advection_mulipliers*C_w;\n",
    "\n",
    "    FD_Dispersion_multipliers =  (D_eff_vec*dt)/((delta_x**2)*R_tracer) # fraction of new water due to dispersion\n",
    "    C_w_add_dispersion = FD_Dispersion_multipliers*(new_conc_vec - 2*C_w + old_conc_vec);\n",
    "\n",
    "    C_w = C_w + C_w_add_advection + C_w_add_dispersion\n",
    "\n",
    "    t = t + dt\n",
    "    iter_i = iter_i + 1\n",
    "\n",
    "\n",
    "plt.figure(1)\n",
    "plt.plot(x,C_w,'k');plt.xlabel('x [m]'); plt.ylabel('c/c$_0$ [-]')\n",
    "plt.show()\n"
   ]
  },
  {
   "cell_type": "code",
   "execution_count": null,
   "id": "da9eaa25-9f4e-49c5-976b-f343bcec701d",
   "metadata": {},
   "outputs": [],
   "source": []
  }
 ],
 "metadata": {
  "kernelspec": {
   "display_name": "Python 3 (ipykernel)",
   "language": "python",
   "name": "python3"
  },
  "language_info": {
   "codemirror_mode": {
    "name": "ipython",
    "version": 3
   },
   "file_extension": ".py",
   "mimetype": "text/x-python",
   "name": "python",
   "nbconvert_exporter": "python",
   "pygments_lexer": "ipython3",
   "version": "3.13.5"
  }
 },
 "nbformat": 4,
 "nbformat_minor": 5
}
